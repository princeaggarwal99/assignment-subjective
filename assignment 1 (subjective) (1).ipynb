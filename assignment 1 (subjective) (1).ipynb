{
 "cells": [
  {
   "cell_type": "markdown",
   "metadata": {},
   "source": [
    "# PRINCE AGGARWAL (data trained batch 1817)"
   ]
  },
  {
   "cell_type": "code",
   "execution_count": 34,
   "metadata": {},
   "outputs": [],
   "source": [
    "import numpy as np\n",
    "import pandas as pd"
   ]
  },
  {
   "cell_type": "code",
   "execution_count": 35,
   "metadata": {},
   "outputs": [
    {
     "name": "stdout",
     "output_type": "stream",
     "text": [
      "5050\n"
     ]
    }
   ],
   "source": [
    "#1.  How to print sum of the numbers starting from 1 to 100?\n",
    "\n",
    "sum=0\n",
    "for i in range(1,101):\n",
    "    sum =sum + i\n",
    "print(sum)\n"
   ]
  },
  {
   "cell_type": "code",
   "execution_count": 36,
   "metadata": {},
   "outputs": [
    {
     "name": "stdout",
     "output_type": "stream",
     "text": [
      "Average of list elements is  53.4\n"
     ]
    }
   ],
   "source": [
    "# 2.Can you write a program to find the average of numbers in a list in Python?\n",
    "sum=0\n",
    "ListSum=[45,78,54,23,67]#crate a list in Python\n",
    "for num in ListSum:\n",
    "      sum=sum+num;#calculate sum\n",
    "      avg=sum/len(ListSum)#calculate average\n",
    "print(\"Average of list elements is \",avg)\n",
    "\n",
    "\n"
   ]
  },
  {
   "cell_type": "markdown",
   "metadata": {},
   "source": [
    "# or"
   ]
  },
  {
   "cell_type": "code",
   "execution_count": 37,
   "metadata": {},
   "outputs": [
    {
     "name": "stdout",
     "output_type": "stream",
     "text": [
      "How many numbers: 4\n",
      "Enter number : 8\n",
      "Enter number : 8\n",
      "Enter number : 9\n",
      "Enter number : 9\n",
      "Average of  4  numbers is : 8.5\n"
     ]
    }
   ],
   "source": [
    "# 2.\tCan you write a program to find the average of numbers in a list in Python?\n",
    "num = int(input('How many numbers: '))\n",
    "total_sum = 0\n",
    "for n in range(num):\n",
    "    numbers = float(input('Enter number : '))\n",
    "    total_sum += numbers\n",
    "avg = total_sum/num\n",
    "print('Average of ', num, ' numbers is :', avg)"
   ]
  },
  {
   "cell_type": "code",
   "execution_count": 38,
   "metadata": {},
   "outputs": [
    {
     "name": "stdout",
     "output_type": "stream",
     "text": [
      "enter a number to reverse ::123\n",
      "The reverse number is : 321\n"
     ]
    }
   ],
   "source": [
    "#3.\tWrite a program to reverse a number in Python?\n",
    "num=int(input(\"enter a number to reverse ::\"))\n",
    "test_num = 0\n",
    "while(num>0):\n",
    "  \n",
    "  remainder = num % 10\n",
    "  test_num = (test_num * 10) + remainder\n",
    "  num = num//10\n",
    " \n",
    "# Display the result\n",
    "print(\"The reverse number is : {}\".format(test_num))"
   ]
  },
  {
   "cell_type": "code",
   "execution_count": 39,
   "metadata": {},
   "outputs": [
    {
     "name": "stdout",
     "output_type": "stream",
     "text": [
      "enter a number ::12345\n",
      "The total sum of digits is: 15\n"
     ]
    }
   ],
   "source": [
    "#4.\tWrite a program to find the sum of the digits of a number in Python?\n",
    "num=int(input(\"enter a number ::\"))\n",
    "total=0\n",
    "while(num>0):\n",
    "    digit=num%10\n",
    "    total=total+digit\n",
    "    num=num//10\n",
    "print(\"The total sum of digits is:\",total)"
   ]
  },
  {
   "cell_type": "code",
   "execution_count": 40,
   "metadata": {},
   "outputs": [
    {
     "name": "stdout",
     "output_type": "stream",
     "text": [
      "Enter number to find if palindrome or not :12121\n",
      "The number is a palindrome :\n"
     ]
    }
   ],
   "source": [
    "#5.\tWrite a Python Program to Check if a Number is a Palindrome or not?\n",
    "num=int(input(\"Enter number to find if palindrome or not :\"))\n",
    "temp=num\n",
    "total=0\n",
    "while(num>0):\n",
    "    digit=num%10\n",
    "    total=total*10+digit\n",
    "    num=num//10\n",
    "if(temp==total):\n",
    "    print(\"The number is a palindrome :\")\n",
    "else:\n",
    "    print(\"The number isn't a palindrome:\")"
   ]
  },
  {
   "cell_type": "code",
   "execution_count": 41,
   "metadata": {},
   "outputs": [
    {
     "name": "stdout",
     "output_type": "stream",
     "text": [
      "Enter the number  :123\n",
      "The number of digits in the number are: 3\n"
     ]
    }
   ],
   "source": [
    "#6.\tWrite a Python Program to Count the Number of Digits in a Number?\n",
    "num=int(input(\"Enter the number  :\"))\n",
    "total=0\n",
    "while(num>0):\n",
    "    total=total+1\n",
    "    num=num//10\n",
    "print(\"The number of digits in the number are:\",total)\n"
   ]
  },
  {
   "cell_type": "code",
   "execution_count": 42,
   "metadata": {},
   "outputs": [
    {
     "name": "stdout",
     "output_type": "stream",
     "text": [
      "Enter the number to print the tables for:5\n",
      "5 x 1 = 5\n",
      "5 x 2 = 10\n",
      "5 x 3 = 15\n",
      "5 x 4 = 20\n",
      "5 x 5 = 25\n",
      "5 x 6 = 30\n",
      "5 x 7 = 35\n",
      "5 x 8 = 40\n",
      "5 x 9 = 45\n",
      "5 x 10 = 50\n"
     ]
    }
   ],
   "source": [
    "#7.\tWrite a Python Program to Print Table of a Given Number?\n",
    "n=int(input(\"Enter the number to print the tables for:\"))\n",
    "for i in range(1,11):\n",
    "    print(n,\"x\",i,\"=\",n*i)"
   ]
  },
  {
   "cell_type": "code",
   "execution_count": 43,
   "metadata": {},
   "outputs": [
    {
     "name": "stdout",
     "output_type": "stream",
     "text": [
      "Enter any number: 8\n",
      "8 is not a prime number\n"
     ]
    }
   ],
   "source": [
    "# 8.\tWrite a Python Program to Check if a Number is a Prime Number?\n",
    "num = int(input(\"Enter any number: \"))\n",
    "if num > 1:\n",
    "    for i in range(2, num):\n",
    "        if (num % i) == 0:\n",
    "            print(num, \"is not a prime number\")\n",
    "            break\n",
    "    else:\n",
    "        print(num, \"is a prime number\")\n",
    "\n",
    "# if the entered number is less than or equal to 1\n",
    "# then it is not prime number\n",
    "else:\n",
    "    print(number, \"is not a prime number\")"
   ]
  },
  {
   "cell_type": "code",
   "execution_count": 44,
   "metadata": {},
   "outputs": [
    {
     "name": "stdout",
     "output_type": "stream",
     "text": [
      "Enter a number: 141\n",
      "141 is not an Armstrong number\n"
     ]
    }
   ],
   "source": [
    "# 9.\tWrite a Python Program to Check if a Number is an Armstrong Number?\n",
    "num = int(input(\"Enter a number: \"))  \n",
    "sum = 0  \n",
    "temp = num  \n",
    "  \n",
    "while temp > 0:  \n",
    "   digit = temp % 10  \n",
    "   sum += digit ** 3  \n",
    "   temp //= 10  \n",
    "  \n",
    "if num == sum:  \n",
    "   print(num,\"is an Armstrong number\")  \n",
    "else:  \n",
    "   print(num,\"is not an Armstrong number\")"
   ]
  },
  {
   "cell_type": "code",
   "execution_count": 45,
   "metadata": {},
   "outputs": [
    {
     "name": "stdout",
     "output_type": "stream",
     "text": [
      "Enter any number: 12121\n",
      "The number is not a Perfect number!\n"
     ]
    }
   ],
   "source": [
    "#10.\tWrite a Python Program to Check if a Number is a Perfect Number?\n",
    "n = int(input(\"Enter any number: \"))\n",
    "sum1 = 0\n",
    "for i in range(1, n):\n",
    "    if(n % i == 0):\n",
    "        sum1 = sum1 + i\n",
    "if (sum1 == n):\n",
    "    print(\"The number is a Perfect number!\")\n",
    "else:\n",
    "    print(\"The number is not a Perfect number!\")"
   ]
  },
  {
   "cell_type": "code",
   "execution_count": 46,
   "metadata": {},
   "outputs": [
    {
     "name": "stdout",
     "output_type": "stream",
     "text": [
      "Enter a number:141\n",
      "The number is not a strong number\n"
     ]
    }
   ],
   "source": [
    "#11.\tWrite a Python Program to Check if a Number is a Strong Number?\n",
    "sum1=0\n",
    "num=int(input(\"Enter a number:\"))\n",
    "temp=num\n",
    "while(num):\n",
    "    i=1\n",
    "    f=1\n",
    "    r=num%10\n",
    "    while(i<=r):\n",
    "        f=f*i\n",
    "        i=i+1\n",
    "    sum1=sum1+f\n",
    "    num=num//10\n",
    "if(sum1==temp):\n",
    "    print(\"The number is a strong number\")\n",
    "else:\n",
    "    print(\"The number is not a strong number\")"
   ]
  },
  {
   "cell_type": "code",
   "execution_count": 47,
   "metadata": {},
   "outputs": [
    {
     "name": "stdout",
     "output_type": "stream",
     "text": [
      "second largest number is   67\n"
     ]
    }
   ],
   "source": [
    "#12.\tWrite a Python Program to Find the Second Largest Number in a List?\n",
    "listsum=[45,78,54,23,67]#crate a list in Python\n",
    "listsum.sort()\n",
    "print(\"second largest number is  \",listsum[-2])\n"
   ]
  },
  {
   "cell_type": "code",
   "execution_count": 48,
   "metadata": {},
   "outputs": [
    {
     "name": "stdout",
     "output_type": "stream",
     "text": [
      "Enter number of elements:4\n",
      "Enter element:1\n",
      "Enter element:2\n",
      "Enter element:3\n",
      "Enter element:4\n",
      "Second largest element is: 3\n"
     ]
    }
   ],
   "source": [
    "# 12.\tWrite a Python Program to Find the Second Largest Number in a List?\n",
    "a=[]\n",
    "n=int(input(\"Enter number of elements:\"))\n",
    "for i in range(1,n+1):\n",
    "    b=int(input(\"Enter element:\"))\n",
    "    a.append(b)\n",
    "a.sort()\n",
    "print(\"Second largest element is:\",a[n-2])"
   ]
  },
  {
   "cell_type": "code",
   "execution_count": 49,
   "metadata": {},
   "outputs": [
    {
     "name": "stdout",
     "output_type": "stream",
     "text": [
      "Enter the number of elements in list:5\n",
      "Enter element1:1\n",
      "Enter element2:2\n",
      "Enter element3:3\n",
      "Enter element4:4\n",
      "Enter element5:5\n",
      "New list is:\n",
      "[5, 2, 3, 4, 1]\n"
     ]
    }
   ],
   "source": [
    "# 13.\tWrite a Python Program to Swap the First and Last Value of a List?\n",
    "a=[]\n",
    "n= int(input(\"Enter the number of elements in list:\"))\n",
    "for x in range(0,n):\n",
    "    element=int(input(\"Enter element\" + str(x+1) + \":\"))\n",
    "    a.append(element)\n",
    "temp=a[0]\n",
    "a[0]=a[n-1]\n",
    "a[n-1]=temp\n",
    "print(\"New list is:\")\n",
    "print(a)"
   ]
  },
  {
   "cell_type": "code",
   "execution_count": 51,
   "metadata": {},
   "outputs": [
    {
     "name": "stdout",
     "output_type": "stream",
     "text": [
      "Enter a string: abbbba\n",
      "abbbba is palindrome\n"
     ]
    }
   ],
   "source": [
    "#  14.\tWrite a Python Program to Check if a String is a Palindrome or Not?#\n",
    "string = input(\"Enter a string: \")\n",
    "rev = reversed(string)\n",
    "\n",
    "if list(string) == list(rev):\n",
    "    print(string, \"is palindrome\")\n",
    "else:\n",
    "    print(string, \"is not palindrome\")"
   ]
  },
  {
   "cell_type": "code",
   "execution_count": 53,
   "metadata": {},
   "outputs": [
    {
     "name": "stdout",
     "output_type": "stream",
     "text": [
      "Enter string:prince aggarwal\n",
      "Number of vowels are:\n",
      "5\n"
     ]
    }
   ],
   "source": [
    "# 15.\tWrite a Python Program to Count the Number of Vowels in a String?\n",
    "string=input(\"Enter string:\")\n",
    "vowels=0\n",
    "for i in string:\n",
    "      if(i=='a' or i=='e' or i=='i' or i=='o' or i=='u' or i=='A' or i=='E' or i=='I' or i=='O' or i=='U'):\n",
    "            vowels=vowels+1\n",
    "print(\"Number of vowels are:\")\n",
    "print(vowels)"
   ]
  },
  {
   "cell_type": "code",
   "execution_count": 54,
   "metadata": {},
   "outputs": [
    {
     "name": "stdout",
     "output_type": "stream",
     "text": [
      "Enter first string:prince\n",
      "Enter second string:prine\n",
      "The common letters are:\n",
      "p\n",
      "r\n",
      "e\n",
      "n\n",
      "i\n"
     ]
    }
   ],
   "source": [
    "#16.\tWrite a Python Program to Check Common Letters in Two Input Strings?\n",
    "string1=input(\"Enter first string:\")\n",
    "string2=input(\"Enter second string:\")\n",
    "tot=list(set(string1)&set(string2))\n",
    "print(\"The common letters are:\")\n",
    "for i in tot:\n",
    "    print(i)"
   ]
  },
  {
   "cell_type": "code",
   "execution_count": 55,
   "metadata": {},
   "outputs": [
    {
     "name": "stdout",
     "output_type": "stream",
     "text": [
      "please enter the user name ::prince \n",
      "First Number:\n",
      "8\n",
      "Operator (+, -, *, /):\n",
      "*\n",
      "Second Number:\n",
      "8\n",
      "Answer: 64.0\n",
      "do you want to exit - yes or no?:yes\n",
      "ok\n"
     ]
    }
   ],
   "source": [
    "#a program to design a calculator \n",
    "name=input(\"please enter the user name ::\")\n",
    "num1 = float(input(\"First Number:\\n\"))\n",
    "operator = input(\"Operator (+, -, *, /):\\n\")\n",
    "num2 = float(input(\"Second Number:\\n\"))\n",
    "out = None\n",
    "if operator == \"+\":\n",
    "    out =  num1 + num2\n",
    "elif operator == \"-\":\n",
    "    out = num1 - num2\n",
    "elif operator == \"*\":\n",
    "    out = num1 * num2\n",
    "elif operator == \"/\":\n",
    "    out = num1 / num2\n",
    "    \n",
    "print(\"Answer: \" + str(out))\n",
    "exit=input(\"do you want to exit - yes or no?:\")\n",
    "if exit==\"no\":\n",
    "    pass\n",
    "elif exit==\"yes\":\n",
    "     print(\"ok\")\n",
    "\n",
    "    \n",
    "\n"
   ]
  }
 ],
 "metadata": {
  "kernelspec": {
   "display_name": "Python 3",
   "language": "python",
   "name": "python3"
  },
  "language_info": {
   "codemirror_mode": {
    "name": "ipython",
    "version": 3
   },
   "file_extension": ".py",
   "mimetype": "text/x-python",
   "name": "python",
   "nbconvert_exporter": "python",
   "pygments_lexer": "ipython3",
   "version": "3.7.4"
  }
 },
 "nbformat": 4,
 "nbformat_minor": 2
}
